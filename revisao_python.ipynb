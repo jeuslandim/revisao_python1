{
  "nbformat": 4,
  "nbformat_minor": 0,
  "metadata": {
    "colab": {
      "provenance": [],
      "authorship_tag": "ABX9TyO+/oJzSe6R6j0mAoJTkCGU",
      "include_colab_link": true
    },
    "kernelspec": {
      "name": "python3",
      "display_name": "Python 3"
    },
    "language_info": {
      "name": "python"
    }
  },
  "cells": [
    {
      "cell_type": "markdown",
      "metadata": {
        "id": "view-in-github",
        "colab_type": "text"
      },
      "source": [
        "<a href=\"https://colab.research.google.com/github/jeuslandim/revisao_python1/blob/main/revisao_python.ipynb\" target=\"_parent\"><img src=\"https://colab.research.google.com/assets/colab-badge.svg\" alt=\"Open In Colab\"/></a>"
      ]
    },
    {
      "cell_type": "markdown",
      "source": [
        "#estudos sobre python\n"
      ],
      "metadata": {
        "id": "JIbrs5W-KLNr"
      }
    },
    {
      "cell_type": "markdown",
      "source": [
        "parte 1: operadores de identidade\n"
      ],
      "metadata": {
        "id": "z3nVznWqKagx"
      }
    },
    {
      "cell_type": "code",
      "source": [
        "lista1 = ['pipoca','guarana','filme','fini']\n",
        "lista2 = ['terror','açao','romance','drama']\n",
        "lista_copia = lista1\n",
        "print(f'sao o mesmo objeto?{lista1 is lista_copia}')  #True\n",
        "print(f'sao o mesmo objeto?{lista1 is lista2}')       #False\n",
        "\n",
        "print('\\n')\n",
        "\n",
        "print('pipoca' in lista1)      #True\n",
        "print('pipoca' not in lista2)  #True\n"
      ],
      "metadata": {
        "colab": {
          "base_uri": "https://localhost:8080/"
        },
        "id": "y7Xz5FbiKZ08",
        "outputId": "edf4b23d-d7d6-4365-dd0e-efe51cf2668b"
      },
      "execution_count": null,
      "outputs": [
        {
          "output_type": "stream",
          "name": "stdout",
          "text": [
            "sao o mesmo objeto?True\n",
            "sao o mesmo objeto?False\n",
            "\n",
            "\n",
            "True\n",
            "True\n"
          ]
        }
      ]
    },
    {
      "cell_type": "markdown",
      "source": [
        "parte 2: estrutura de dados e syntaxe de fuçoes e tipos de dados"
      ],
      "metadata": {
        "id": "2rNugpjQbl7V"
      }
    },
    {
      "cell_type": "code",
      "source": [
        "print('TUPLAS:\\n')           #TUPLAS\n",
        "coordenadas = (10, 20)\n",
        "x = coordenadas[0]  #restorna 10\n",
        "print(x)\n",
        "\n",
        "print('\\n')\n",
        "\n",
        "print('LISTA:\\n')            #LISTAS\n",
        "\n",
        "frutas = ['melao', 'maça', 'morango']\n",
        "primeira_fruta = frutas[0]\n",
        "print(f'qual a primeira coisa da list1:{primeira_fruta}')\n",
        "\n",
        "#adicionr item na lista\n",
        "print('\\n')\n",
        "fruta_nova = input('digite uma fruta: ')\n",
        "frutas.append(fruta_nova)        #sera adicionada no fim da lista\n",
        "print(frutas)\n",
        "fruta_nova = str(input('digite uma fruta: '))\n",
        "frutas.insert(0,fruta_nova)      #sera adicionada no indicie 0\n",
        "print(frutas)\n",
        "#remover item da lista\n",
        "print('\\n')\n",
        "frutas.pop(2)                    #remove o item de indicie 2\n",
        "print(frutas)\n",
        "#modificar\n",
        "print('\\n')\n",
        "fruta_nova = str(input('digite uma fruta: '))\n",
        "frutas[2] = fruta_nova           #troca o item de indicie 2 por fruta_nova\n",
        "print(frutas)\n",
        "#ler tamanho\n",
        "print(f'qual o tamanho da lista de frutas: {len(frutas)}')"
      ],
      "metadata": {
        "id": "LhAfNMrGbqUM"
      },
      "execution_count": null,
      "outputs": []
    },
    {
      "cell_type": "code",
      "source": [
        "#TRANSFORMAR LISTA\n",
        "#SINTASE: LISTA_ALTERADA = [retorno parte_iteravel]\n",
        "numeros = [1, 2, 3, 4, 5, 6, 7, 8, 9, 10]\n",
        "quadrados = [x ** 2 for x in numeros]\n",
        "print(f'numeros: {numeros}\\nquadrados: {quadrados}\\n')                    #a partir da lista numeros ele vai criar outra com o quadrado\n",
        "print('\\n')\n",
        "#TRANSFORMAR LISTA COM CONDIÇAO\n",
        "#SINTASE: LISTA_ALTERADA = [retorno parte_iteravel condiçao_para_retornar]\n",
        "pares = [x for x in quadrados if x % 2 == 0]\n",
        "print(f'numeros: {numeros}\\nquadrados: {quadrados}\\npares: {pares}')"
      ],
      "metadata": {
        "id": "DABBGOLRilBg"
      },
      "execution_count": null,
      "outputs": []
    },
    {
      "cell_type": "code",
      "source": [
        "print('DICIONARIO\\n')      #DICIONARIO (dict)\n",
        "dicionario_base = {'nomes': [\"beatriz\", \"eloilson\", \"pedro\", \"aline\"],\n",
        "                   'idade': [19, 55, 20, 20],\n",
        "                   'faculdade': [\"veterinaria\", \"direito\", \"filosofia\", \"administraçao\"],\n",
        "                   'erro': 'vazio a ser removido'}\n",
        "nome_do_aluno = dicionario_base['nomes'][0]\n",
        "print(nome_do_aluno)\n",
        "print('\\n')\n",
        "\n",
        "#adicionar chave\n",
        "dicionario_base['pet'] = ['dog', 'dog', 'cat', 'cat']\n",
        "print(dicionario_base)\n",
        "print('\\n')\n",
        "#atualizar o valor de uma chave ja existente\n",
        "lista_atualizada = dicionario_base['pet']\n",
        "lista_atualizada.append(input('digite um novo pet:'))\n",
        "dicionario_base['pet'] = lista_atualizada\n",
        "print(dicionario_base)\n",
        "print('\\n')\n",
        "#remover chave e itens\n",
        "del dicionario_base['erro']\n",
        "print(dicionario_base)\n",
        "print('\\n')\n",
        "\n",
        "#chamar chaves de um dict e valores de um dict\n",
        "dicionario_base.keys()        #nao esta aparecendo\n",
        "dicionario_base.values()"
      ],
      "metadata": {
        "id": "503fiJAA5QBv"
      },
      "execution_count": null,
      "outputs": []
    },
    {
      "cell_type": "code",
      "source": [
        "print('CONJUNTOS OU SETs')        #CONJUNTO (set)\n",
        "#sintase\n",
        "set_base = {1, 2, 3, 4, 5, 6, 7, 8, 9, 12, 31, 16, 21, 33, 28, 37, 49, 44, 42, 57, 68}   #set com numeros avulsos"
      ],
      "metadata": {
        "id": "_dTFYUtv51ab"
      },
      "execution_count": 12,
      "outputs": []
    }
  ]
}